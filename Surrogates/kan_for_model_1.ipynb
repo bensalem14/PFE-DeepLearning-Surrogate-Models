{
  "cells": [
    {
      "cell_type": "markdown",
      "metadata": {
        "id": "_iPv5Nnr8iGf"
      },
      "source": [
        "# Implementation of a KAN-based surrogate  for Model 1\n",
        "In this notebook I implement a Kolmogorov-Arnold Network (KAN) surrogate model for dynamics 1 and compare it against a neural network of a similar architecture."
      ]
    },
    {
      "cell_type": "markdown",
      "metadata": {
        "id": "LRMpDTp_cVt5"
      },
      "source": [
        "## Initialisations"
      ]
    },
    {
      "cell_type": "code",
      "execution_count": null,
      "metadata": {
        "colab": {
          "base_uri": "https://localhost:8080/"
        },
        "id": "t1n3Plr3bvLI",
        "outputId": "00cdb4a4-7b18-4b64-fa71-99e6c19b0641"
      },
      "outputs": [
        {
          "output_type": "stream",
          "name": "stdout",
          "text": [
            "The virtual environment was not created successfully because ensurepip is not\n",
            "available.  On Debian/Ubuntu systems, you need to install the python3-venv\n",
            "package using the following command.\n",
            "\n",
            "    apt install python3.10-venv\n",
            "\n",
            "You may need to use sudo with that command.  After installing the python3-venv\n",
            "package, recreate your virtual environment.\n",
            "\n",
            "Failing command: /content/pykan-env/bin/python3\n",
            "\n",
            "/bin/bash: line 1: pykan-env/bin/activate: No such file or directory\n",
            "Collecting pykan==0.0.5\n",
            "  Downloading pykan-0.0.5-py3-none-any.whl.metadata (13 kB)\n",
            "Downloading pykan-0.0.5-py3-none-any.whl (33 kB)\n",
            "Installing collected packages: pykan\n",
            "Successfully installed pykan-0.0.5\n",
            "Requirement already satisfied: moviepy in /usr/local/lib/python3.10/dist-packages (1.0.3)\n",
            "Requirement already satisfied: decorator<5.0,>=4.0.2 in /usr/local/lib/python3.10/dist-packages (from moviepy) (4.4.2)\n",
            "Requirement already satisfied: tqdm<5.0,>=4.11.2 in /usr/local/lib/python3.10/dist-packages (from moviepy) (4.66.5)\n",
            "Requirement already satisfied: requests<3.0,>=2.8.1 in /usr/local/lib/python3.10/dist-packages (from moviepy) (2.32.3)\n",
            "Requirement already satisfied: proglog<=1.0.0 in /usr/local/lib/python3.10/dist-packages (from moviepy) (0.1.10)\n",
            "Requirement already satisfied: numpy>=1.17.3 in /usr/local/lib/python3.10/dist-packages (from moviepy) (1.26.4)\n",
            "Requirement already satisfied: imageio<3.0,>=2.5 in /usr/local/lib/python3.10/dist-packages (from moviepy) (2.34.2)\n",
            "Requirement already satisfied: imageio-ffmpeg>=0.2.0 in /usr/local/lib/python3.10/dist-packages (from moviepy) (0.5.1)\n",
            "Requirement already satisfied: pillow>=8.3.2 in /usr/local/lib/python3.10/dist-packages (from imageio<3.0,>=2.5->moviepy) (9.4.0)\n",
            "Requirement already satisfied: setuptools in /usr/local/lib/python3.10/dist-packages (from imageio-ffmpeg>=0.2.0->moviepy) (71.0.4)\n",
            "Requirement already satisfied: charset-normalizer<4,>=2 in /usr/local/lib/python3.10/dist-packages (from requests<3.0,>=2.8.1->moviepy) (3.3.2)\n",
            "Requirement already satisfied: idna<4,>=2.5 in /usr/local/lib/python3.10/dist-packages (from requests<3.0,>=2.8.1->moviepy) (3.8)\n",
            "Requirement already satisfied: urllib3<3,>=1.21.1 in /usr/local/lib/python3.10/dist-packages (from requests<3.0,>=2.8.1->moviepy) (2.0.7)\n",
            "Requirement already satisfied: certifi>=2017.4.17 in /usr/local/lib/python3.10/dist-packages (from requests<3.0,>=2.8.1->moviepy) (2024.8.30)\n",
            "Collecting ffmpeg\n",
            "  Downloading ffmpeg-1.4.tar.gz (5.1 kB)\n",
            "  Preparing metadata (setup.py) ... \u001b[?25l\u001b[?25hdone\n",
            "Building wheels for collected packages: ffmpeg\n",
            "  Building wheel for ffmpeg (setup.py) ... \u001b[?25l\u001b[?25hdone\n",
            "  Created wheel for ffmpeg: filename=ffmpeg-1.4-py3-none-any.whl size=6083 sha256=e49e9a2c53322734bae6ac51409cb409d0b1d333d4c87f0f267b925009b59cff\n",
            "  Stored in directory: /root/.cache/pip/wheels/8e/7a/69/cd6aeb83b126a7f04cbe7c9d929028dc52a6e7d525ff56003a\n",
            "Successfully built ffmpeg\n",
            "Installing collected packages: ffmpeg\n",
            "Successfully installed ffmpeg-1.4\n",
            "Requirement already satisfied: decorator==4.4.2 in /usr/local/lib/python3.10/dist-packages (4.4.2)\n"
          ]
        }
      ],
      "source": [
        "!python -m venv pykan-env\n",
        "!source pykan-env/bin/activate  # On Windows use `pykan-env\\Scripts\\activate`\n",
        "!pip install pykan==0.0.5\n",
        "!pip install moviepy --upgrade\n",
        "!pip install ffmpeg --upgrade\n",
        "!pip install --upgrade decorator==4.4.2"
      ]
    },
    {
      "cell_type": "code",
      "execution_count": null,
      "metadata": {
        "id": "qrVEGBzEcUQc",
        "colab": {
          "base_uri": "https://localhost:8080/"
        },
        "outputId": "4a42011b-a090-420a-db20-1fb98db9fe6d"
      },
      "outputs": [
        {
          "output_type": "stream",
          "name": "stdout",
          "text": [
            "cpu\n"
          ]
        }
      ],
      "source": [
        "import torch\n",
        "from kan import *\n",
        "import matplotlib.pyplot as plt\n",
        "from tqdm import tqdm\n",
        "from sklearn.preprocessing import StandardScaler\n",
        "from sklearn.model_selection import train_test_split\n",
        "from tqdm import tqdm\n",
        "import matplotlib.pyplot as plt\n",
        "import numpy as np\n",
        "if torch.cuda.is_available():\n",
        "  %load_ext cudf.pandas\n",
        "  import cudf\n",
        "  import cupy as cp\n",
        "  device = torch.device(\"cuda\")\n",
        "else:\n",
        "  import pandas as cudf\n",
        "  import numpy as cp\n",
        "  device = torch.device(\"cpu\")\n",
        "\n",
        "print(device)"
      ]
    },
    {
      "cell_type": "markdown",
      "metadata": {
        "id": "Wk8vP8FUiqO_"
      },
      "source": [
        "# Data Generation\n",
        "\n",
        "<h1>Model 1: \\begin{cases}\\frac{dx_\\epsilon}{dt}=-x_\\epsilon cos(2\\pi \\frac{t}{\\epsilon})\\\\\n",
        "x_\\epsilon(0)=1\\end{cases}\n",
        "Analytical solution: \\begin{cases}\n",
        "x_\\epsilon(t)= x_\\epsilon(0)e^{-\\epsilon \\frac{sin(2\\pi\\frac{t}{\\epsilon})}{2\\pi}}\\\\\n",
        "x_0(t)=1\n",
        "\\end{cases}</h1>\n",
        "\n",
        "<h1>Parameters:\\begin{aligned}\n",
        "&\\Delta t_\\epsilon=10^{-3}s\\\\\n",
        "&T=10s\n",
        "\\end{aligned}</h1>"
      ]
    },
    {
      "cell_type": "markdown",
      "metadata": {
        "id": "7RE1svm9cXkX"
      },
      "source": [
        "## Loading the Dataset"
      ]
    },
    {
      "cell_type": "code",
      "execution_count": null,
      "metadata": {
        "id": "oM68iW4nlMuo",
        "colab": {
          "base_uri": "https://localhost:8080/"
        },
        "outputId": "e9afdc77-45b0-42ff-edaa-d7e963164d33"
      },
      "outputs": [
        {
          "output_type": "stream",
          "name": "stdout",
          "text": [
            "Generated Dataset:\n",
            "       t  x0        xe\n",
            "0  0.000   1  1.000000\n",
            "1  0.001   1  0.999000\n",
            "2  0.002   1  0.998002\n",
            "3  0.003   1  0.997004\n",
            "4  0.004   1  0.996008\n",
            "Scaled Dataset:\n",
            "       t  x0        xe\n",
            "0  0.000   1  1.000000\n",
            "1  0.001   1  0.999000\n",
            "2  0.002   1  0.998002\n",
            "3  0.003   1  0.997004\n",
            "4  0.004   1  0.996008\n"
          ]
        },
        {
          "output_type": "stream",
          "name": "stderr",
          "text": [
            "100%|██████████| 8000/8000 [00:00<00:00, 8780.31it/s]\n",
            "100%|██████████| 2000/2000 [00:00<00:00, 10980.64it/s]\n"
          ]
        },
        {
          "output_type": "stream",
          "name": "stdout",
          "text": [
            "Prepared Dataset:\n",
            "{'train_input': tensor([[4.7605, 1.0000],\n",
            "        [1.8062, 1.0000],\n",
            "        [7.7518, 1.0000],\n",
            "        ...,\n",
            "        [2.3062, 1.0000],\n",
            "        [6.7337, 1.0000],\n",
            "        [8.2308, 1.0000]]), 'test_input': tensor([[6.2526, 1.0000],\n",
            "        [4.6845, 1.0000],\n",
            "        [1.7312, 1.0000],\n",
            "        ...,\n",
            "        [7.8538, 1.0000],\n",
            "        [1.0951, 1.0000],\n",
            "        [6.9297, 1.0000]]), 'train_label': tensor([[1.1721],\n",
            "        [1.1611],\n",
            "        [1.1725],\n",
            "        ...,\n",
            "        [0.8613],\n",
            "        [1.1715],\n",
            "        [0.8538]]), 'test_label': tensor([[0.8529],\n",
            "        [1.1570],\n",
            "        [1.1712],\n",
            "        ...,\n",
            "        [1.1348],\n",
            "        [0.9143],\n",
            "        [1.0704]])}\n"
          ]
        }
      ],
      "source": [
        "\n",
        "# Step 1: Generate the dataset\n",
        "def generate_dataset():\n",
        "    # Define parameters\n",
        "    a = 1  # You can adjust this value\n",
        "    t_values = cp.linspace(0, 10, 10000)  # Generate 100 points between 0 and 10\n",
        "\n",
        "    # Initialize lists to store results\n",
        "    t_list = []\n",
        "    x0_list = []\n",
        "    xe_list = []\n",
        "\n",
        "    # Calculate x0(t) and xe(t) for each t value\n",
        "    for t in t_values:\n",
        "        x0 = 1  # Given x0(t) = 1\n",
        "        xe =  cp.exp(-a * cp.sin(2 * cp.pi * t / a) / (2 * cp.pi))\n",
        "        t_list.append(t)\n",
        "        x0_list.append(x0)\n",
        "        xe_list.append(xe)\n",
        "\n",
        "    # Convert lists to cuDF Series\n",
        "    t_series = cudf.Series(t_list)\n",
        "    x0_series = cudf.Series(x0_list)\n",
        "    xe_series = cudf.Series(xe_list)\n",
        "\n",
        "    # Create a cuDF DataFrame to store the dataset\n",
        "    df = cudf.DataFrame({'t': t_series, 'x0': x0_series, 'xe': xe_series})\n",
        "\n",
        "    return df\n",
        "\n",
        "# Step 2: Scale the dataset\n",
        "def scale_dataset(df):\n",
        "    scaler = StandardScaler()\n",
        "    scaled_data = scaler.fit_transform(df[['t', 'x0', 'xe']].to_pandas())\n",
        "    return cudf.DataFrame(scaled_data, columns=['t', 'x0', 'xe'])\n",
        "\n",
        "# Step 3: Convert to PyTorch tensors and split into train/test sets\n",
        "def prepare_tensors(scaled_df):\n",
        "  # Extract features and target\n",
        "    features = scaled_df[['t', 'x0']].to_numpy()  # Select only 't' and 'x0' as features\n",
        "    target = scaled_df['xe'].to_numpy()\n",
        "\n",
        "    # Convert to PyTorch tensors\n",
        "    data_tensor = torch.tensor(features, dtype=torch.float32)\n",
        "    target_tensor = torch.tensor(target, dtype=torch.float32)\n",
        "\n",
        "    train_data, test_data, train_target, test_target = train_test_split(data_tensor, target_tensor, test_size=0.2, random_state=42)\n",
        "\n",
        "    # Step 4: Concatenate the data into a single tensor\n",
        "    train_inputs = torch.empty(0, 2, device=device)\n",
        "    train_labels = torch.empty(0, dtype=torch.float32, device=device)\n",
        "    test_inputs = torch.empty(0, 2, device=device)\n",
        "    test_labels = torch.empty(0, dtype=torch.float32, device=device)\n",
        "\n",
        "    train_loader = torch.utils.data.DataLoader(torch.utils.data.TensorDataset(train_data, train_target), batch_size=1, shuffle=True)\n",
        "    test_loader = torch.utils.data.DataLoader(torch.utils.data.TensorDataset(test_data, test_target), batch_size=1, shuffle=False)\n",
        "\n",
        "    for data, labels in tqdm(train_loader):\n",
        "        train_inputs = torch.cat((train_inputs, data.to(device)), dim=0)\n",
        "        train_labels = torch.cat((train_labels, labels.to(device)), dim=0)\n",
        "\n",
        "    for data, labels in tqdm(test_loader):\n",
        "        test_inputs = torch.cat((test_inputs, data.to(device)), dim=0)\n",
        "        test_labels = torch.cat((test_labels, labels.to(device)), dim=0)\n",
        "\n",
        "    dataset = {}\n",
        "    dataset['train_input'] = train_inputs\n",
        "    dataset['test_input'] = test_inputs\n",
        "    dataset['train_label'] = train_labels.reshape(-1, 1)\n",
        "    dataset['test_label'] = test_labels.reshape(-1, 1)\n",
        "\n",
        "    return dataset\n",
        "\n",
        "# Generate the dataset\n",
        "df = generate_dataset()\n",
        "print(\"Generated Dataset:\")\n",
        "print(df.head())\n",
        "\n",
        "# Scale the dataset\n",
        "scaled_df =df# scale_dataset(df)\n",
        "print(\"Scaled Dataset:\")\n",
        "print(scaled_df.head())\n",
        "\n",
        "# Prepare tensors and split the data\n",
        "model1_dataset = prepare_tensors(scaled_df)\n",
        "\n",
        "#model1_dataset = prepare_tensors(df)\n",
        "print(\"Prepared Dataset:\")\n",
        "print(model1_dataset)\n"
      ]
    },
    {
      "cell_type": "code",
      "execution_count": null,
      "metadata": {
        "id": "wDBtdgGocUHM",
        "colab": {
          "base_uri": "https://localhost:8080/"
        },
        "outputId": "ef4c6235-3bb5-4e51-fe39-bd6dd20b26a3"
      },
      "outputs": [
        {
          "output_type": "stream",
          "name": "stdout",
          "text": [
            "Train data shape: torch.Size([8000, 2])\n",
            "Train target shape: torch.Size([8000, 1])\n",
            "Test data shape: torch.Size([2000, 2])\n",
            "Test target shape: torch.Size([2000, 1])\n",
            "====================================\n"
          ]
        }
      ],
      "source": [
        "print(\"Train data shape: {}\".format(model1_dataset['train_input'].shape))\n",
        "print(\"Train target shape: {}\".format(model1_dataset['train_label'].shape))\n",
        "print(\"Test data shape: {}\".format(model1_dataset['test_input'].shape))\n",
        "print(\"Test target shape: {}\".format(model1_dataset['test_label'].shape))\n",
        "print(\"====================================\")"
      ]
    },
    {
      "cell_type": "code",
      "execution_count": null,
      "metadata": {
        "id": "2axMlk7diAe_",
        "colab": {
          "base_uri": "https://localhost:8080/",
          "height": 565
        },
        "outputId": "414c2672-642a-4ed5-ba0b-7a6678d0372e"
      },
      "outputs": [
        {
          "output_type": "display_data",
          "data": {
            "text/plain": [
              "<Figure size 1200x600 with 1 Axes>"
            ],
            "image/png": "[encoded data removed]"
          },
          "metadata": {}
        }
      ],
      "source": [
        "t = df['t']\n",
        "x0 = df['x0']\n",
        "xe = df['xe']\n",
        "\n",
        "# Plotting x0 and xe\n",
        "plt.figure(figsize=(12, 6))\n",
        "\n",
        "# Plot x0\n",
        "plt.plot(t, x0, label='x0', color='blue')\n",
        "# Plot xe\n",
        "plt.plot(t, xe, label='xe', color='red')\n",
        "\n",
        "# Adding titles and labels\n",
        "plt.title('Visualization of $x_0$ and x_\\epsilon')\n",
        "plt.xlabel('t')\n",
        "plt.ylabel('Values')\n",
        "plt.legend()\n",
        "\n",
        "# Show the plot\n",
        "plt.show()"
      ]
    },
    {
      "cell_type": "markdown",
      "metadata": {
        "id": "D7ERosp1iM17"
      },
      "source": [
        "## Creating and Training the KAN"
      ]
    },
    {
      "cell_type": "code",
      "execution_count": null,
      "metadata": {
        "id": "xkjQDBTnNFHw"
      },
      "outputs": [],
      "source": [
        "image_folder = 'video_img'\n",
        "\n",
        "kan_model = KAN(width=[2,1, 1], grid=200, k=2, seed=0, device=device)"
      ]
    },
    {
      "cell_type": "code",
      "execution_count": null,
      "metadata": {
        "id": "OhNKU6T1iLWe",
        "colab": {
          "base_uri": "https://localhost:8080/"
        },
        "outputId": "89ccaf4b-5bb3-41ee-c798-b01e202c5202"
      },
      "outputs": [
        {
          "output_type": "stream",
          "name": "stderr",
          "text": [
            "train loss: 6.77e-02 | test loss: 6.76e-02 | reg: 6.50e-01 : 100%|██| 25/25 [02:56<00:00,  7.06s/it]\n"
          ]
        }
      ],
      "source": [
        "def train_mse():\n",
        "    with torch.no_grad():\n",
        "        predictions = kan_model(model1_dataset['train_input'])\n",
        "        mse = torch.nn.functional.mse_loss(predictions, model1_dataset['train_label'])\n",
        "    return mse\n",
        "\n",
        "def test_mse():\n",
        "    with torch.no_grad():\n",
        "        predictions = kan_model(model1_dataset['test_input'])\n",
        "        mse = torch.nn.functional.mse_loss(predictions, model1_dataset['test_label'])\n",
        "    return mse\n",
        "\n",
        "results = kan_model.train({'train_input': model1_dataset['train_input'], 'train_label': model1_dataset['train_label'], 'test_input': model1_dataset['test_input'], 'test_label':model1_dataset['test_label']}, opt=\"LBFGS\", device=device, metrics=(train_mse, test_mse),\n",
        "                      loss_fn=torch.nn.MSELoss(), steps=25, lamb=0.01, lamb_entropy=2., save_fig=True, img_folder=image_folder)"
      ]
    },
    {
      "cell_type": "code",
      "execution_count": null,
      "metadata": {
        "id": "J8hG6q3zujPG",
        "colab": {
          "base_uri": "https://localhost:8080/"
        },
        "outputId": "256becdb-c8aa-49e9-a28c-361543f34b32"
      },
      "outputs": [
        {
          "output_type": "stream",
          "name": "stdout",
          "text": [
            "0.004576854407787323 0.004571040626615286\n"
          ]
        }
      ],
      "source": [
        "print(results['train_mse'][-1], results['test_mse'][-1])"
      ]
    },
    {
      "cell_type": "markdown",
      "source": [
        "# KAN explainability"
      ],
      "metadata": {
        "id": "wU10RdgtE0c0"
      }
    },
    {
      "cell_type": "code",
      "execution_count": null,
      "metadata": {
        "id": "ll0aE1WW9FEK",
        "colab": {
          "base_uri": "https://localhost:8080/",
          "height": 721
        },
        "outputId": "72fc22a0-db3b-43fa-91bc-9559790b75ad"
      },
      "outputs": [
        {
          "output_type": "display_data",
          "data": {
            "text/plain": [
              "<Figure size 1000x800 with 4 Axes>"
            ],
            "image/png": "[encoded data removed]"
          },
          "metadata": {}
        }
      ],
      "source": [
        "kan_model.plot(beta=50, scale=1, out_vars=[r'$X_\\epsilon$'])"
      ]
    },
    {
      "cell_type": "code",
      "execution_count": null,
      "metadata": {
        "id": "yPbmkBTBNSDe",
        "colab": {
          "base_uri": "https://localhost:8080/"
        },
        "outputId": "20d89131-2ce4-4a81-988e-8c89ed0c4baf"
      },
      "outputs": [
        {
          "output_type": "stream",
          "name": "stdout",
          "text": [
            "Moviepy - Building video video.mp4.\n",
            "Moviepy - Writing video video.mp4\n",
            "\n"
          ]
        },
        {
          "output_type": "stream",
          "name": "stderr",
          "text": []
        },
        {
          "output_type": "stream",
          "name": "stdout",
          "text": [
            "Moviepy - Done !\n",
            "Moviepy - video ready video.mp4\n"
          ]
        }
      ],
      "source": [
        "import moviepy.video.io.ImageSequenceClip\n",
        "\n",
        "video_name='video'\n",
        "fps=5\n",
        "image_folder='/content/video_img'\n",
        "files = os.listdir(image_folder)\n",
        "train_index = []\n",
        "for file in files:\n",
        "    if file[0].isdigit() and file.endswith('.jpg'):\n",
        "        train_index.append(int(file[:-4]))\n",
        "\n",
        "train_index = np.sort(train_index)\n",
        "\n",
        "image_files = [image_folder+'/'+str(train_index[index])+'.jpg' for index in train_index]\n",
        "\n",
        "clip = moviepy.video.io.ImageSequenceClip.ImageSequenceClip(image_files, fps=fps)\n",
        "clip.write_videofile(video_name+'.mp4')"
      ]
    },
    {
      "cell_type": "code",
      "source": [
        "from IPython.display import HTML\n",
        "from base64 import b64encode\n",
        "\n",
        "# Replace 'your_video.mp4' with the filename you uploaded\n",
        "video_path = '/content/video.mp4'\n",
        "\n",
        "# Encode video in base64\n",
        "video = open(video_path, \"rb\").read()\n",
        "encoded_video = b64encode(video).decode('utf-8')\n",
        "\n",
        "# Display video in HTML\n",
        "video_html = '''\n",
        "<video width=\"640\" height=\"480\" controls>\n",
        "  <source src=\"data:video/mp4;base64,{}\" type=\"video/mp4\">\n",
        "  Your browser does not support the video tag.\n",
        "</video>\n",
        "'''.format(encoded_video)\n",
        "\n",
        "HTML(video_html)\n"
      ],
      "metadata": {
        "colab": {
          "base_uri": "https://localhost:8080/",
          "height": 502
        },
        "id": "Ujbo-m7kMi3Q",
        "outputId": "02ba6b58-5eff-43bd-c990-8f291a45a8d3"
      },
      "execution_count": null,
      "outputs": [
        {
          "output_type": "execute_result",
          "data": {
            "text/plain": [
              "<IPython.core.display.HTML object>"
            ],
            "text/html": [
              "\n",
              "<video width=\"640\" height=\"480\" controls>\n",
              "  <source src=\"data:video/mp4;base64,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\" type=\"video/mp4\">\n",
              "  Your browser does not support the video tag.\n",
              "</video>\n"
            ]
          },
          "metadata": {},
          "execution_count": 11
        }
      ]
    },
    {
      "cell_type": "markdown",
      "metadata": {
        "id": "CBD58aME1Rvd"
      },
      "source": [
        "# Implementation of a Neural Network for comparison"
      ]
    },
    {
      "cell_type": "markdown",
      "metadata": {
        "id": "ZeOsPZiB9MSS"
      },
      "source": [
        "## Misc Functions"
      ]
    },
    {
      "cell_type": "code",
      "execution_count": null,
      "metadata": {
        "id": "WxOUQTTiuAja"
      },
      "outputs": [],
      "source": [
        "class NNet(nn.Module):\n",
        "    def __init__(self):\n",
        "        super(NNet, self).__init__()\n",
        "        self.fc1 = nn.Linear(2, 3)  # 8 inputs to 5 hidden nodes\n",
        "        self.relu = nn.ReLU()\n",
        "        self.fc2 = nn.Linear(3, 1)  # 5 hidden nodes to 3 outputs\n",
        "\n",
        "    def forward(self, x):\n",
        "        x = self.fc1(x)\n",
        "        x = self.relu(x)\n",
        "        x = self.fc2(x)\n",
        "        return x\n",
        "\n",
        "def train_model(model, train_loader, criterion, optimizer, num_epochs=25):\n",
        "    total_loss = 0.0\n",
        "    total_count = 0\n",
        "    model.train()\n",
        "    for epoch in range(num_epochs):\n",
        "        for inputs, labels in train_loader:\n",
        "            inputs, labels = inputs.to(device), labels.to(device)  # Move data to the specified device\n",
        "            optimizer.zero_grad()\n",
        "            outputs = model(inputs)\n",
        "            loss = criterion(outputs, labels)\n",
        "            loss.backward()\n",
        "            optimizer.step()\n",
        "            total_loss += loss.item()\n",
        "            total_count += labels.size(0)\n",
        "        print(f'Epoch {epoch+1}, Loss: {loss.item()}')\n",
        "    average_mse = total_loss / total_count\n",
        "    print(f'Mean Squared Error: {average_mse}')\n",
        "    return average_mse\n",
        "\n",
        "def test_model(model, test_loader):\n",
        "    model.eval()\n",
        "    total_loss = 0.0\n",
        "    total_count = 0\n",
        "    with torch.no_grad():\n",
        "        for inputs, labels in test_loader:\n",
        "            inputs, labels = inputs.to(device), labels.to(device)  # Move data to the specified device\n",
        "            outputs = model(inputs)\n",
        "            loss = torch.nn.functional.mse_loss(outputs, labels, reduction='sum')\n",
        "            total_loss += loss.item()\n",
        "            total_count += labels.size(0)\n",
        "\n",
        "    # Calculate the average MSE over all batches\n",
        "    average_mse = total_loss / total_count\n",
        "    print(f'Mean Squared Error: {average_mse}')\n",
        "    return average_mse"
      ]
    },
    {
      "cell_type": "code",
      "execution_count": null,
      "metadata": {
        "id": "B-99o3TR1uN1"
      },
      "outputs": [],
      "source": [
        "def load_generated_dataset( test_size=0.2, random_state=42):\n",
        "\n",
        "    # Extract features and target\n",
        "    data = df[['t', 'x0']].values\n",
        "    target = df['xe'].values  # Assuming 'target' is a column in your generated dataset\n",
        "\n",
        "    # Convert to NumPy arrays if they are CuPy arrays\n",
        "    if hasattr(data, 'get'):\n",
        "        data = data.get()\n",
        "    if hasattr(target, 'get'):\n",
        "        target = target.get()\n",
        "\n",
        "    # Scale the features\n",
        "    scaler = StandardScaler()\n",
        "    data = scaler.fit_transform(data)\n",
        "\n",
        "    # Convert to PyTorch tensors\n",
        "    data_tensor = torch.tensor(data, dtype=torch.float32)\n",
        "    target_tensor = torch.tensor(target, dtype=torch.float32).reshape(-1, 1)\n",
        "\n",
        "    # Split dataset into train and test sets\n",
        "    train_data, test_data, train_target, test_target = train_test_split(data_tensor, target_tensor, test_size=test_size, random_state=random_state)\n",
        "\n",
        "    # Create data loaders\n",
        "    train_loader = torch.utils.data.DataLoader(torch.utils.data.TensorDataset(train_data, train_target), batch_size=200, shuffle=True)\n",
        "    test_loader = torch.utils.data.DataLoader(torch.utils.data.TensorDataset(test_data, test_target), batch_size=200, shuffle=False)\n",
        "\n",
        "    return train_loader, test_loader\n",
        "\n",
        "# Assuming 'dataset.csv' is generated using the provided cuDF/cuPy code\n",
        "train_loader, test_loader = load_generated_dataset() # removed 'dataset.csv' as it is not used in the function\n",
        "\n",
        "# Now you can use train_loader and test_loader to train and evaluate your PyTorch models"
      ]
    },
    {
      "cell_type": "code",
      "execution_count": null,
      "metadata": {
        "id": "FJYeBGm9vj28",
        "colab": {
          "base_uri": "https://localhost:8080/"
        },
        "outputId": "b6d14cde-f47d-47af-9f28-858c4a84cef2"
      },
      "outputs": [
        {
          "output_type": "stream",
          "name": "stdout",
          "text": [
            "Train data shape: torch.Size([200, 2])\n",
            "Train target shape: torch.Size([200, 1])\n",
            "Test data shape: torch.Size([200, 2])\n",
            "Test target shape: torch.Size([200, 1])\n",
            "====================================\n"
          ]
        }
      ],
      "source": [
        "dataiter = iter(train_loader)\n",
        "data, labels = next(dataiter)\n",
        "print(\"Train data shape: {}\".format(data.shape))\n",
        "print(\"Train target shape: {}\".format(labels.shape))\n",
        "dataiter = iter(test_loader)\n",
        "data, labels = next(dataiter)\n",
        "print(\"Test data shape: {}\".format(data.shape))\n",
        "print(\"Test target shape: {}\".format(labels.shape))\n",
        "print(\"====================================\")"
      ]
    },
    {
      "cell_type": "markdown",
      "metadata": {
        "id": "Hg219SyH9NrO"
      },
      "source": [
        "## Train and Evaluate the NN"
      ]
    },
    {
      "cell_type": "code",
      "source": [
        "model = NNet().to(device)\n",
        "criterion = torch.nn.MSELoss()\n",
        "optimizer = torch.optim.Adam(model.parameters(), lr=0.05)"
      ],
      "metadata": {
        "id": "cTmiMCtBEBIQ"
      },
      "execution_count": null,
      "outputs": []
    },
    {
      "cell_type": "code",
      "execution_count": null,
      "metadata": {
        "id": "DbsyfVGd1cX1",
        "colab": {
          "base_uri": "https://localhost:8080/"
        },
        "outputId": "ca3f9879-f454-4054-adcb-261fdc0e7897"
      },
      "outputs": [
        {
          "output_type": "stream",
          "name": "stdout",
          "text": [
            "Epoch 1, Loss: 0.012820975854992867\n",
            "Epoch 2, Loss: 0.011849907226860523\n",
            "Epoch 3, Loss: 0.012984927743673325\n",
            "Epoch 4, Loss: 0.012609502300620079\n",
            "Epoch 5, Loss: 0.013415347784757614\n",
            "Epoch 6, Loss: 0.013225849717855453\n",
            "Epoch 7, Loss: 0.012410378083586693\n",
            "Epoch 8, Loss: 0.013335831463336945\n",
            "Epoch 9, Loss: 0.013282972387969494\n",
            "Epoch 10, Loss: 0.013083548285067081\n",
            "Epoch 11, Loss: 0.012698463164269924\n",
            "Epoch 12, Loss: 0.012949212454259396\n",
            "Epoch 13, Loss: 0.01325650792568922\n",
            "Epoch 14, Loss: 0.011862006038427353\n",
            "Epoch 15, Loss: 0.013258175924420357\n",
            "Epoch 16, Loss: 0.013087494298815727\n",
            "Epoch 17, Loss: 0.012534081004559994\n",
            "Epoch 18, Loss: 0.01325214747339487\n",
            "Epoch 19, Loss: 0.012982006184756756\n",
            "Epoch 20, Loss: 0.012461994774639606\n",
            "Epoch 21, Loss: 0.012961814180016518\n",
            "Epoch 22, Loss: 0.012692364864051342\n",
            "Epoch 23, Loss: 0.012363799847662449\n",
            "Epoch 24, Loss: 0.013265072368085384\n",
            "Epoch 25, Loss: 0.012116803787648678\n",
            "Mean Squared Error: 7.812469683121889e-05\n"
          ]
        }
      ],
      "source": [
        "train_loss=train_model(model, train_loader, criterion, optimizer)"
      ]
    },
    {
      "cell_type": "code",
      "execution_count": null,
      "metadata": {
        "id": "zw5MP7SSwmOq",
        "colab": {
          "base_uri": "https://localhost:8080/"
        },
        "outputId": "9f313b12-1fbf-4ec5-d7bf-cbbff6784f1c"
      },
      "outputs": [
        {
          "output_type": "stream",
          "name": "stdout",
          "text": [
            "Mean Squared Error: 0.012678436398506165\n"
          ]
        }
      ],
      "source": [
        "test_loss=test_model(model, test_loader)"
      ]
    },
    {
      "cell_type": "markdown",
      "source": [
        "# Comparison"
      ],
      "metadata": {
        "id": "9e6_BzFveXLT"
      }
    },
    {
      "cell_type": "code",
      "source": [
        "print(\"KAN TEST PERFORMANCE :\")\n",
        "print(results['test_mse'][-1])\n",
        "print(\"NN TEST PERFORMANCE :\")\n",
        "print(test_loss)"
      ],
      "metadata": {
        "colab": {
          "base_uri": "https://localhost:8080/"
        },
        "id": "qsrHh7ETa1e0",
        "outputId": "71ef1294-ca06-46a8-897f-6ebb83748a70"
      },
      "execution_count": null,
      "outputs": [
        {
          "output_type": "stream",
          "name": "stdout",
          "text": [
            "KAN TEST PERFORMANCE :\n",
            "0.004571040626615286\n",
            "NN TEST PERFORMANCE :\n",
            "0.012678436398506165\n"
          ]
        }
      ]
    }
  ],
  "metadata": {
    "colab": {
      "provenance": []
    },
    "kaggle": {
      "accelerator": "gpu",
      "dataSources": [],
      "dockerImageVersionId": 30733,
      "isGpuEnabled": true,
      "isInternetEnabled": true,
      "language": "python",
      "sourceType": "notebook"
    },
    "kernelspec": {
      "display_name": "Python 3",
      "name": "python3"
    },
    "language_info": {
      "codemirror_mode": {
        "name": "ipython",
        "version": 3
      },
      "file_extension": ".py",
      "mimetype": "text/x-python",
      "name": "python",
      "nbconvert_exporter": "python",
      "pygments_lexer": "ipython3",
      "version": "3.10.13"
    }
  },
  "nbformat": 4,
  "nbformat_minor": 0
}