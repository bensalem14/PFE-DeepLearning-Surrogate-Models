{
  "metadata": {
    "colab": {
      "provenance": []
    },
    "kernelspec": {
      "name": "python3",
      "display_name": "Python 3"
    },
    "language_info": {
      "name": "python",
      "version": "3.10.13",
      "mimetype": "text/x-python",
      "codemirror_mode": {
        "name": "ipython",
        "version": 3
      },
      "pygments_lexer": "ipython3",
      "nbconvert_exporter": "python",
      "file_extension": ".py"
    },
    "kaggle": {
      "accelerator": "gpu",
      "dataSources": [],
      "dockerImageVersionId": 30733,
      "isInternetEnabled": true,
      "language": "python",
      "sourceType": "notebook",
      "isGpuEnabled": true
    }
  },
  "nbformat_minor": 0,
  "nbformat": 4,
  "cells": [
    {
      "cell_type": "markdown",
      "source": [
        "# Implementation of a KAN-based surrogate  for Model 5\n",
        "In this notebook I implement a Kolmogorov-Arnold Network (KAN) surrogate model for dynamics 5 and compare it against a neural network of a similar architecture."
      ],
      "metadata": {
        "id": "_iPv5Nnr8iGf"
      }
    },
    {
      "cell_type": "markdown",
      "source": [
        "## Initialisations"
      ],
      "metadata": {
        "id": "LRMpDTp_cVt5"
      }
    },
    {
      "cell_type": "code",
      "source": [
        "!python -m venv pykan-env\n",
        "!source pykan-env/bin/activate  # On Windows use `pykan-env\\Scripts\\activate`\n",
        "!pip install pykan==0.0.5\n",
        "!pip install moviepy --upgrade\n",
        "!pip install ffmpeg --upgrade\n",
        "!pip install --upgrade decorator==4.4.2"
      ],
      "metadata": {
        "colab": {
          "base_uri": "https://localhost:8080/"
        },
        "id": "t1n3Plr3bvLI",
        "outputId": "423c78c7-761d-4322-9842-03de0ea0d6e1",
        "execution": {
          "iopub.status.busy": "2024-06-28T20:17:54.881476Z",
          "iopub.execute_input": "2024-06-28T20:17:54.882074Z",
          "iopub.status.idle": "2024-06-28T20:18:06.950176Z",
          "shell.execute_reply.started": "2024-06-28T20:17:54.882039Z",
          "shell.execute_reply": "2024-06-28T20:18:06.949195Z"
        },
        "trusted": true
      },
      "execution_count": null,
      "outputs": [
        {
          "output_type": "stream",
          "name": "stdout",
          "text": [
            "The virtual environment was not created successfully because ensurepip is not\n",
            "available.  On Debian/Ubuntu systems, you need to install the python3-venv\n",
            "package using the following command.\n",
            "\n",
            "    apt install python3.10-venv\n",
            "\n",
            "You may need to use sudo with that command.  After installing the python3-venv\n",
            "package, recreate your virtual environment.\n",
            "\n",
            "Failing command: /content/pykan-env/bin/python3\n",
            "\n",
            "/bin/bash: line 1: pykan-env/bin/activate: No such file or directory\n",
            "Requirement already satisfied: pykan==0.0.5 in /usr/local/lib/python3.10/dist-packages (0.0.5)\n",
            "Requirement already satisfied: moviepy in /usr/local/lib/python3.10/dist-packages (1.0.3)\n",
            "Requirement already satisfied: decorator<5.0,>=4.0.2 in /usr/local/lib/python3.10/dist-packages (from moviepy) (4.4.2)\n",
            "Requirement already satisfied: tqdm<5.0,>=4.11.2 in /usr/local/lib/python3.10/dist-packages (from moviepy) (4.66.5)\n",
            "Requirement already satisfied: requests<3.0,>=2.8.1 in /usr/local/lib/python3.10/dist-packages (from moviepy) (2.32.3)\n",
            "Requirement already satisfied: proglog<=1.0.0 in /usr/local/lib/python3.10/dist-packages (from moviepy) (0.1.10)\n",
            "Requirement already satisfied: numpy>=1.17.3 in /usr/local/lib/python3.10/dist-packages (from moviepy) (1.26.4)\n",
            "Requirement already satisfied: imageio<3.0,>=2.5 in /usr/local/lib/python3.10/dist-packages (from moviepy) (2.34.2)\n",
            "Requirement already satisfied: imageio-ffmpeg>=0.2.0 in /usr/local/lib/python3.10/dist-packages (from moviepy) (0.5.1)\n",
            "Requirement already satisfied: pillow>=8.3.2 in /usr/local/lib/python3.10/dist-packages (from imageio<3.0,>=2.5->moviepy) (9.4.0)\n",
            "Requirement already satisfied: setuptools in /usr/local/lib/python3.10/dist-packages (from imageio-ffmpeg>=0.2.0->moviepy) (71.0.4)\n",
            "Requirement already satisfied: charset-normalizer<4,>=2 in /usr/local/lib/python3.10/dist-packages (from requests<3.0,>=2.8.1->moviepy) (3.3.2)\n",
            "Requirement already satisfied: idna<4,>=2.5 in /usr/local/lib/python3.10/dist-packages (from requests<3.0,>=2.8.1->moviepy) (3.8)\n",
            "Requirement already satisfied: urllib3<3,>=1.21.1 in /usr/local/lib/python3.10/dist-packages (from requests<3.0,>=2.8.1->moviepy) (2.0.7)\n",
            "Requirement already satisfied: certifi>=2017.4.17 in /usr/local/lib/python3.10/dist-packages (from requests<3.0,>=2.8.1->moviepy) (2024.8.30)\n",
            "Requirement already satisfied: ffmpeg in /usr/local/lib/python3.10/dist-packages (1.4)\n",
            "Requirement already satisfied: decorator==4.4.2 in /usr/local/lib/python3.10/dist-packages (4.4.2)\n"
          ]
        }
      ]
    },
    {
      "cell_type": "code",
      "source": [
        "import torch\n",
        "from kan import *\n",
        "import matplotlib.pyplot as plt\n",
        "from sklearn.model_selection import train_test_split\n",
        "from tqdm import tqdm\n",
        "from sklearn.preprocessing import StandardScaler\n",
        "from sklearn.model_selection import train_test_split\n",
        "from tqdm import tqdm\n",
        "import matplotlib.pyplot as plt\n",
        "import numpy as np\n",
        "from scipy.integrate import solve_ivp\n",
        "\n",
        "if torch.cuda.is_available():\n",
        "  %load_ext cudf.pandas\n",
        "  import cudf\n",
        "  import cupy as cp\n",
        "  device = torch.device(\"cuda\")\n",
        "else:\n",
        "  import pandas as cudf\n",
        "  import numpy as cp\n",
        "  device = torch.device(\"cpu\")\n",
        "\n",
        "print(device)"
      ],
      "metadata": {
        "colab": {
          "base_uri": "https://localhost:8080/"
        },
        "id": "qrVEGBzEcUQc",
        "outputId": "00960268-9b25-4329-9701-d23f5807f301",
        "execution": {
          "iopub.status.busy": "2024-06-28T20:18:06.952679Z",
          "iopub.execute_input": "2024-06-28T20:18:06.953436Z",
          "iopub.status.idle": "2024-06-28T20:18:06.959972Z",
          "shell.execute_reply.started": "2024-06-28T20:18:06.953396Z",
          "shell.execute_reply": "2024-06-28T20:18:06.959142Z"
        },
        "trusted": true
      },
      "execution_count": null,
      "outputs": [
        {
          "output_type": "stream",
          "name": "stdout",
          "text": [
            "cpu\n"
          ]
        }
      ]
    },
    {
      "cell_type": "markdown",
      "source": [
        "# Data Generation\n",
        "\n",
        "<h1>Model 5: \\begin{cases}\\frac{dx_\\epsilon}{dt}=-x_\\epsilon cos((2\\pi+\\epsilon cos(10t)) \\frac{t}{\\epsilon})\\\\\n",
        "x_\\epsilon(0)=1\\end{cases}\n",
        "Analytical solution: $$\n",
        "x_0(t)=1$$</h1>\n",
        "\n",
        "<h1>Parameters:\\begin{aligned}\n",
        "&\\Delta t_\\epsilon=10^{-3}s\\\\\n",
        "&T=10s\n",
        "\\end{aligned}</h1>"
      ],
      "metadata": {
        "id": "Wk8vP8FUiqO_"
      }
    },
    {
      "cell_type": "markdown",
      "source": [
        "## Loading the Dataset"
      ],
      "metadata": {
        "id": "7RE1svm9cXkX"
      }
    },
    {
      "cell_type": "code",
      "source": [
        "# Define the differential equation\n",
        "def dydt(t, x, a):\n",
        "    return -x * np.cos((t/a) * (2*np.pi + a * np.cos(10*t)))\n",
        "# Step 1: Generate the dataset\n",
        "def generate_dataset():\n",
        "    # Define parameters\n",
        "    a = 1  # You can adjust this value\n",
        "    t_values = cp.linspace(0, 10, 10000)  # Generate 100 points between 0 and 10\n",
        "\n",
        "    # Initialize lists to store results\n",
        "    t_list = []\n",
        "    x0_list = []\n",
        "    xe_list = []\n",
        "        # Parameters\n",
        "    x0 = 1  # Initial condition for x\n",
        "    t_span = (0, 10)  # Time range for the solution\n",
        "    t_eval = np.linspace(t_span[0], t_span[1], 10000)  # Points at which to store the computed solution\n",
        "\n",
        "    # Solve the differential equation\n",
        "    sol = solve_ivp(dydt, t_span, [x0], args=(a,), t_eval=t_eval)\n",
        "\n",
        "    # Generate the dataset\n",
        "    t_values = sol.t\n",
        "    xe_values = sol.y[0]\n",
        "    x0_values= np.ones_like(t_values)\n",
        "    # Store the dataset in a pandas DataFrame\n",
        "    df = cudf.DataFrame({'t': t_values, 'x0': x0_values, 'xe': xe_values})\n",
        "\n",
        "    # Save the DataFrame to a CSV file\n",
        "    df.to_csv('dataset.csv', index=False)\n",
        "\n",
        "    return df\n",
        "\n",
        "# Step 2: Scale the dataset\n",
        "def scale_dataset(df):\n",
        "    scaler = StandardScaler()\n",
        "    scaled_data = scaler.fit_transform(df[['t', 'x0', 'xe']].to_pandas())\n",
        "    return cudf.DataFrame(scaled_data, columns=['t', 'x0', 'xe'])\n",
        "\n",
        "# Step 3: Convert to PyTorch tensors and split into train/test sets\n",
        "def prepare_tensors(scaled_df):\n",
        "  # Extract features and target\n",
        "    features = scaled_df[['t', 'x0']].to_numpy()  # Select only 't' and 'x0' as features\n",
        "    target = scaled_df['xe'].to_numpy()\n",
        "\n",
        "    # Convert to PyTorch tensors\n",
        "    data_tensor = torch.tensor(features, dtype=torch.float32)\n",
        "    target_tensor = torch.tensor(target, dtype=torch.float32)\n",
        "\n",
        "    train_data, test_data, train_target, test_target = train_test_split(data_tensor, target_tensor, test_size=0.2, random_state=42)\n",
        "\n",
        "    # Step 4: Concatenate the data into a single tensor\n",
        "    train_inputs = torch.empty(0, 2, device=device)\n",
        "    train_labels = torch.empty(0, dtype=torch.float32, device=device)\n",
        "    test_inputs = torch.empty(0, 2, device=device)\n",
        "    test_labels = torch.empty(0, dtype=torch.float32, device=device)\n",
        "\n",
        "    train_loader = torch.utils.data.DataLoader(torch.utils.data.TensorDataset(train_data, train_target), batch_size=1, shuffle=True)\n",
        "    test_loader = torch.utils.data.DataLoader(torch.utils.data.TensorDataset(test_data, test_target), batch_size=1, shuffle=False)\n",
        "\n",
        "    for data, labels in tqdm(train_loader):\n",
        "        train_inputs = torch.cat((train_inputs, data.to(device)), dim=0)\n",
        "        train_labels = torch.cat((train_labels, labels.to(device)), dim=0)\n",
        "\n",
        "    for data, labels in tqdm(test_loader):\n",
        "        test_inputs = torch.cat((test_inputs, data.to(device)), dim=0)\n",
        "        test_labels = torch.cat((test_labels, labels.to(device)), dim=0)\n",
        "\n",
        "    dataset = {}\n",
        "    dataset['train_input'] = train_inputs\n",
        "    dataset['test_input'] = test_inputs\n",
        "    dataset['train_label'] = train_labels.reshape(-1, 1)\n",
        "    dataset['test_label'] = test_labels.reshape(-1, 1)\n",
        "\n",
        "    return dataset\n",
        "\n",
        "# Generate the dataset\n",
        "df = generate_dataset()\n",
        "print(\"Generated Dataset:\")\n",
        "print(df.head())\n",
        "\n",
        "# Scale the dataset\n",
        "scaled_df =df# scale_dataset(df)\n",
        "print(\"Scaled Dataset:\")\n",
        "print(scaled_df.head())\n",
        "\n",
        "# Prepare tensors and split the data\n",
        "model5_dataset = prepare_tensors(scaled_df)\n",
        "print(\"Prepared Dataset:\")\n",
        "print(model5_dataset)\n"
      ],
      "metadata": {
        "colab": {
          "base_uri": "https://localhost:8080/"
        },
        "id": "oM68iW4nlMuo",
        "outputId": "5109ddec-3abf-4649-d57b-38fbf354c489"
      },
      "execution_count": null,
      "outputs": [
        {
          "output_type": "stream",
          "name": "stdout",
          "text": [
            "Generated Dataset:\n",
            "       t   x0        xe\n",
            "0  0.000  1.0  1.000000\n",
            "1  0.001  1.0  0.999000\n",
            "2  0.002  1.0  0.998002\n",
            "3  0.003  1.0  0.997004\n",
            "4  0.004  1.0  0.996008\n",
            "Scaled Dataset:\n",
            "       t   x0        xe\n",
            "0  0.000  1.0  1.000000\n",
            "1  0.001  1.0  0.999000\n",
            "2  0.002  1.0  0.998002\n",
            "3  0.003  1.0  0.997004\n",
            "4  0.004  1.0  0.996008\n"
          ]
        },
        {
          "output_type": "stream",
          "name": "stderr",
          "text": [
            "100%|██████████| 8000/8000 [00:00<00:00, 9631.30it/s]\n",
            "100%|██████████| 2000/2000 [00:00<00:00, 10787.62it/s]"
          ]
        },
        {
          "output_type": "stream",
          "name": "stdout",
          "text": [
            "Prepared Dataset:\n",
            "{'train_input': tensor([[0.6991, 1.0000],\n",
            "        [4.4194, 1.0000],\n",
            "        [3.9554, 1.0000],\n",
            "        ...,\n",
            "        [8.5229, 1.0000],\n",
            "        [0.9391, 1.0000],\n",
            "        [6.4506, 1.0000]]), 'test_input': tensor([[6.2526, 1.0000],\n",
            "        [4.6845, 1.0000],\n",
            "        [1.7312, 1.0000],\n",
            "        ...,\n",
            "        [7.8538, 1.0000],\n",
            "        [1.0951, 1.0000],\n",
            "        [6.9297, 1.0000]]), 'train_label': tensor([[1.0256],\n",
            "        [1.0420],\n",
            "        [0.9653],\n",
            "        ...,\n",
            "        [1.0233],\n",
            "        [0.9888],\n",
            "        [0.9912]]), 'test_label': tensor([[0.9932],\n",
            "        [0.9538],\n",
            "        [1.2957],\n",
            "        ...,\n",
            "        [0.9871],\n",
            "        [0.8832],\n",
            "        [0.9691]])}\n"
          ]
        },
        {
          "output_type": "stream",
          "name": "stderr",
          "text": [
            "\n"
          ]
        }
      ]
    },
    {
      "cell_type": "code",
      "source": [
        "print(\"Train data shape: {}\".format(model5_dataset['train_input'].shape))\n",
        "print(\"Train target shape: {}\".format(model5_dataset['train_label'].shape))\n",
        "print(\"Test data shape: {}\".format(model5_dataset['test_input'].shape))\n",
        "print(\"Test target shape: {}\".format(model5_dataset['test_label'].shape))\n",
        "print(\"====================================\")"
      ],
      "metadata": {
        "id": "wDBtdgGocUHM",
        "colab": {
          "base_uri": "https://localhost:8080/"
        },
        "outputId": "931569e2-2c3e-4ce8-9fc9-14f793df5dc4",
        "execution": {
          "iopub.status.busy": "2024-06-28T20:18:07.589435Z",
          "iopub.status.idle": "2024-06-28T20:18:07.589756Z",
          "shell.execute_reply.started": "2024-06-28T20:18:07.589598Z",
          "shell.execute_reply": "2024-06-28T20:18:07.589611Z"
        },
        "trusted": true
      },
      "execution_count": null,
      "outputs": [
        {
          "output_type": "stream",
          "name": "stdout",
          "text": [
            "Train data shape: torch.Size([8000, 2])\n",
            "Train target shape: torch.Size([8000, 1])\n",
            "Test data shape: torch.Size([2000, 2])\n",
            "Test target shape: torch.Size([2000, 1])\n",
            "====================================\n"
          ]
        }
      ]
    },
    {
      "cell_type": "code",
      "source": [
        "import matplotlib.pyplot as plt\n",
        "t = df['t']\n",
        "x0 = df['x0']\n",
        "xe = df['xe']\n",
        "\n",
        "# Plotting x0 and xe\n",
        "plt.figure(figsize=(12, 6))\n",
        "\n",
        "# Plot x0\n",
        "plt.plot(t, x0, label='x0', color='blue')\n",
        "# Plot xe\n",
        "plt.plot(t, xe, label='xe', color='red')\n",
        "\n",
        "# Adding titles and labels\n",
        "plt.title('Visualization of x0 and xe')\n",
        "plt.xlabel('t')\n",
        "plt.ylabel('Values')\n",
        "plt.legend()\n",
        "\n",
        "# Show the plot\n",
        "plt.show()"
      ],
      "metadata": {
        "colab": {
          "base_uri": "https://localhost:8080/",
          "height": 564
        },
        "id": "2axMlk7diAe_",
        "outputId": "43ed6918-3c4b-4e69-d1ed-c5db70d1a62c"
      },
      "execution_count": null,
      "outputs": [
        {
          "output_type": "display_data",
          "data": {
            "text/plain": [
              "<Figure size 1200x600 with 1 Axes>"
            ],
            "image/png": "[encoded data removed]"
          },
          "metadata": {}
        }
      ]
    },
    {
      "cell_type": "markdown",
      "source": [
        "## Creating and Training the KAN"
      ],
      "metadata": {
        "id": "D7ERosp1iM17"
      }
    },
    {
      "cell_type": "code",
      "source": [
        "image_folder = 'video_img'\n",
        "\n",
        "kan_model = KAN(width=[2,1, 1], grid=50, k=2, seed=0, device=device)"
      ],
      "metadata": {
        "id": "xkjQDBTnNFHw",
        "execution": {
          "iopub.status.busy": "2024-06-28T20:18:07.591452Z",
          "iopub.status.idle": "2024-06-28T20:18:07.591951Z",
          "shell.execute_reply.started": "2024-06-28T20:18:07.591704Z",
          "shell.execute_reply": "2024-06-28T20:18:07.591725Z"
        },
        "trusted": true
      },
      "execution_count": null,
      "outputs": []
    },
    {
      "cell_type": "code",
      "source": [
        "def train_mse():\n",
        "    with torch.no_grad():\n",
        "        predictions = kan_model(model5_dataset['train_input'])\n",
        "        mse = torch.nn.functional.mse_loss(predictions, model5_dataset['train_label'])\n",
        "    return mse\n",
        "\n",
        "def test_mse():\n",
        "    with torch.no_grad():\n",
        "        predictions = kan_model(model5_dataset['test_input'])\n",
        "        mse = torch.nn.functional.mse_loss(predictions, model5_dataset['test_label'])\n",
        "    return mse\n",
        "\n",
        "results = kan_model.train(model5_dataset, opt=\"LBFGS\", device=device, metrics=(train_mse, test_mse),\n",
        "                      loss_fn=torch.nn.MSELoss(), steps=25, lamb=0.01, lamb_entropy=2., save_fig=True, img_folder=image_folder)"
      ],
      "metadata": {
        "colab": {
          "base_uri": "https://localhost:8080/"
        },
        "id": "OhNKU6T1iLWe",
        "outputId": "e3933b41-4737-4c68-8780-303e348b0bd2",
        "execution": {
          "iopub.status.busy": "2024-06-28T20:18:07.593234Z",
          "iopub.status.idle": "2024-06-28T20:18:07.593684Z",
          "shell.execute_reply.started": "2024-06-28T20:18:07.593457Z",
          "shell.execute_reply": "2024-06-28T20:18:07.593475Z"
        },
        "trusted": true
      },
      "execution_count": null,
      "outputs": [
        {
          "output_type": "stream",
          "name": "stderr",
          "text": [
            "train loss: 3.09e-02 | test loss: 3.07e-02 | reg: 4.77e-01 : 100%|██| 25/25 [00:51<00:00,  2.04s/it]\n"
          ]
        }
      ]
    },
    {
      "cell_type": "code",
      "source": [
        "print(results['train_mse'][-1], results['test_mse'][-1])"
      ],
      "metadata": {
        "id": "J8hG6q3zujPG",
        "execution": {
          "iopub.status.busy": "2024-06-28T20:18:07.594642Z",
          "iopub.status.idle": "2024-06-28T20:18:07.595104Z",
          "shell.execute_reply.started": "2024-06-28T20:18:07.594871Z",
          "shell.execute_reply": "2024-06-28T20:18:07.594891Z"
        },
        "trusted": true,
        "colab": {
          "base_uri": "https://localhost:8080/"
        },
        "outputId": "0542088c-2994-42fb-911d-3d6ce651c227"
      },
      "execution_count": null,
      "outputs": [
        {
          "output_type": "stream",
          "name": "stdout",
          "text": [
            "0.0009528581285849214 0.0009415835957042873\n"
          ]
        }
      ]
    },
    {
      "cell_type": "code",
      "source": [
        "kan_model.plot(beta=50, scale=1, out_vars=[r'$X_\\epsilon$'])"
      ],
      "metadata": {
        "id": "ll0aE1WW9FEK",
        "execution": {
          "iopub.status.busy": "2024-06-28T20:18:07.596715Z",
          "iopub.status.idle": "2024-06-28T20:18:07.597164Z",
          "shell.execute_reply.started": "2024-06-28T20:18:07.596935Z",
          "shell.execute_reply": "2024-06-28T20:18:07.596954Z"
        },
        "trusted": true,
        "colab": {
          "base_uri": "https://localhost:8080/",
          "height": 721
        },
        "outputId": "5364f283-3ee9-4d4e-cceb-3f3953c45560"
      },
      "execution_count": null,
      "outputs": [
        {
          "output_type": "display_data",
          "data": {
            "text/plain": [
              "<Figure size 1000x800 with 4 Axes>"
            ],
            "image/png": "[encoded data removed]"
          },
          "metadata": {}
        }
      ]
    },
    {
      "cell_type": "code",
      "source": [
        "import moviepy.video.io.ImageSequenceClip\n",
        "\n",
        "video_name='video'\n",
        "fps=10\n",
        "image_folder='/content/video_img'\n",
        "files = os.listdir(image_folder)\n",
        "train_index = []\n",
        "for file in files:\n",
        "    if file[0].isdigit() and file.endswith('.jpg'):\n",
        "        train_index.append(int(file[:-4]))\n",
        "\n",
        "train_index = np.sort(train_index)\n",
        "\n",
        "image_files = [image_folder+'/'+str(train_index[index])+'.jpg' for index in train_index]\n",
        "\n",
        "clip = moviepy.video.io.ImageSequenceClip.ImageSequenceClip(image_files, fps=fps)\n",
        "clip.write_videofile(video_name+'.mp4')"
      ],
      "metadata": {
        "id": "yPbmkBTBNSDe",
        "execution": {
          "iopub.status.busy": "2024-06-28T20:18:07.603417Z",
          "iopub.status.idle": "2024-06-28T20:18:07.603859Z",
          "shell.execute_reply.started": "2024-06-28T20:18:07.603623Z",
          "shell.execute_reply": "2024-06-28T20:18:07.603641Z"
        },
        "trusted": true,
        "colab": {
          "base_uri": "https://localhost:8080/"
        },
        "outputId": "8b38d97d-e42a-4216-fdca-6c847ece1fe0"
      },
      "execution_count": null,
      "outputs": [
        {
          "output_type": "stream",
          "name": "stdout",
          "text": [
            "Moviepy - Building video video.mp4.\n",
            "Moviepy - Writing video video.mp4\n",
            "\n"
          ]
        },
        {
          "output_type": "stream",
          "name": "stderr",
          "text": []
        },
        {
          "output_type": "stream",
          "name": "stdout",
          "text": [
            "Moviepy - Done !\n",
            "Moviepy - video ready video.mp4\n"
          ]
        }
      ]
    },
    {
      "cell_type": "code",
      "source": [
        "from IPython.display import HTML\n",
        "from base64 import b64encode\n",
        "\n",
        "# Replace 'your_video.mp4' with the filename you uploaded\n",
        "video_path = '/content/video.mp4'\n",
        "\n",
        "# Encode video in base64\n",
        "video = open(video_path, \"rb\").read()\n",
        "encoded_video = b64encode(video).decode('utf-8')\n",
        "\n",
        "# Display video in HTML\n",
        "video_html = '''\n",
        "<video width=\"640\" height=\"480\" controls>\n",
        "  <source src=\"data:video/mp4;base64,{}\" type=\"video/mp4\">\n",
        "  Your browser does not support the video tag.\n",
        "</video>\n",
        "'''.format(encoded_video)\n",
        "\n",
        "HTML(video_html)\n"
      ],
      "metadata": {
        "colab": {
          "base_uri": "https://localhost:8080/",
          "height": 502
        },
        "id": "Sfniiqpk6nmn",
        "outputId": "20802f56-1b27-450f-c625-09ce2492dfa1"
      },
      "execution_count": null,
      "outputs": [
        {
          "output_type": "execute_result",
          "data": {
            "text/plain": [
              "<IPython.core.display.HTML object>"
            ],
            "text/html": [
              "\n",
              "<video width=\"640\" height=\"480\" controls>\n",
              "  <source src=\"data:video/mp4;base64,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\" type=\"video/mp4\">\n",
              "  Your browser does not support the video tag.\n",
              "</video>\n"
            ]
          },
          "metadata": {},
          "execution_count": 35
        }
      ]
    },
    {
      "cell_type": "markdown",
      "source": [
        "# Implementation of a Neural Network for comparison"
      ],
      "metadata": {
        "id": "CBD58aME1Rvd"
      }
    },
    {
      "cell_type": "markdown",
      "source": [
        "## Misc Functions"
      ],
      "metadata": {
        "id": "ZeOsPZiB9MSS"
      }
    },
    {
      "cell_type": "code",
      "source": [
        "class NNet(nn.Module):\n",
        "    def __init__(self):\n",
        "        super(NNet, self).__init__()\n",
        "        self.fc1 = nn.Linear(2, 3)  # 8 inputs to 5 hidden nodes\n",
        "        self.relu = nn.ReLU()\n",
        "        self.fc2 = nn.Linear(3, 1)  # 5 hidden nodes to 3 outputs\n",
        "\n",
        "    def forward(self, x):\n",
        "        x = self.fc1(x)\n",
        "        x = self.relu(x)\n",
        "        x = self.fc2(x)\n",
        "        return x\n",
        "\n",
        "def train_model(model, train_loader, criterion, optimizer, num_epochs=25):\n",
        "    total_loss = 0.0\n",
        "    total_count = 0\n",
        "    model.train()\n",
        "    for epoch in range(num_epochs):\n",
        "        for inputs, labels in train_loader:\n",
        "            inputs, labels = inputs.to(device), labels.to(device)  # Move data to the specified device\n",
        "            optimizer.zero_grad()\n",
        "            outputs = model(inputs)\n",
        "            loss = criterion(outputs, labels)\n",
        "            loss.backward()\n",
        "            optimizer.step()\n",
        "            total_loss += loss.item()\n",
        "            total_count += labels.size(0)\n",
        "        print(f'Epoch {epoch+1}, Loss: {loss.item()}')\n",
        "    average_mse = total_loss / total_count\n",
        "    return average_mse\n",
        "\n",
        "\n",
        "def test_model(model, test_loader):\n",
        "    model.eval()\n",
        "    total_loss = 0.0\n",
        "    total_count = 0\n",
        "    with torch.no_grad():\n",
        "        for inputs, labels in test_loader:\n",
        "            inputs, labels = inputs.to(device), labels.to(device)  # Move data to the specified device\n",
        "            outputs = model(inputs)\n",
        "            loss = torch.nn.functional.mse_loss(outputs, labels, reduction='sum')\n",
        "            total_loss += loss.item()\n",
        "            total_count += labels.size(0)\n",
        "\n",
        "    # Calculate the average MSE over all batches\n",
        "    average_mse = total_loss / total_count\n",
        "    print(f'Mean Squared Error: {average_mse}')\n",
        "    return average_mse"
      ],
      "metadata": {
        "id": "WxOUQTTiuAja",
        "execution": {
          "iopub.status.busy": "2024-06-28T20:18:07.605612Z",
          "iopub.status.idle": "2024-06-28T20:18:07.606062Z",
          "shell.execute_reply.started": "2024-06-28T20:18:07.605829Z",
          "shell.execute_reply": "2024-06-28T20:18:07.605847Z"
        },
        "trusted": true
      },
      "execution_count": null,
      "outputs": []
    },
    {
      "cell_type": "code",
      "source": [
        "def load_generated_dataset( test_size=0.2, random_state=42):\n",
        "\n",
        "    # Extract features and target\n",
        "    data = df[['t', 'x0']].values\n",
        "    target = df['xe'].values  # Assuming 'target' is a column in your generated dataset\n",
        "\n",
        "    # Convert to NumPy arrays if they are CuPy arrays\n",
        "    if hasattr(data, 'get'):\n",
        "        data = data.get()\n",
        "    if hasattr(target, 'get'):\n",
        "        target = target.get()\n",
        "\n",
        "    # Scale the features\n",
        "    scaler = StandardScaler()\n",
        "    data = scaler.fit_transform(data)\n",
        "\n",
        "    # Convert to PyTorch tensors\n",
        "    data_tensor = torch.tensor(data, dtype=torch.float32)\n",
        "    target_tensor = torch.tensor(target, dtype=torch.float32).reshape(-1, 1)\n",
        "\n",
        "    # Split dataset into train and test sets\n",
        "    train_data, test_data, train_target, test_target = train_test_split(data_tensor, target_tensor, test_size=test_size, random_state=random_state)\n",
        "\n",
        "    # Create data loaders\n",
        "    train_loader = torch.utils.data.DataLoader(torch.utils.data.TensorDataset(train_data, train_target), batch_size=200, shuffle=True)\n",
        "    test_loader = torch.utils.data.DataLoader(torch.utils.data.TensorDataset(test_data, test_target), batch_size=200, shuffle=False)\n",
        "\n",
        "    return train_loader, test_loader\n",
        "\n",
        "# Assuming 'dataset.csv' is generated using the provided cuDF/cuPy code\n",
        "train_loader, test_loader = load_generated_dataset() # removed 'dataset.csv' as it is not used in the function\n",
        "\n",
        "# Now you can use train_loader and test_loader to train and evaluate your PyTorch models"
      ],
      "metadata": {
        "id": "B-99o3TR1uN1",
        "execution": {
          "iopub.status.busy": "2024-06-28T20:18:07.607235Z",
          "iopub.status.idle": "2024-06-28T20:18:07.607648Z",
          "shell.execute_reply.started": "2024-06-28T20:18:07.607482Z",
          "shell.execute_reply": "2024-06-28T20:18:07.607497Z"
        },
        "trusted": true
      },
      "execution_count": null,
      "outputs": []
    },
    {
      "cell_type": "code",
      "source": [
        "dataiter = iter(train_loader)\n",
        "data, labels = next(dataiter)\n",
        "print(\"Train data shape: {}\".format(data.shape))\n",
        "print(\"Train target shape: {}\".format(labels.shape))\n",
        "dataiter = iter(test_loader)\n",
        "data, labels = next(dataiter)\n",
        "print(\"Test data shape: {}\".format(data.shape))\n",
        "print(\"Test target shape: {}\".format(labels.shape))\n",
        "print(\"====================================\")"
      ],
      "metadata": {
        "id": "FJYeBGm9vj28",
        "execution": {
          "iopub.status.busy": "2024-06-28T20:18:07.608936Z",
          "iopub.status.idle": "2024-06-28T20:18:07.609279Z",
          "shell.execute_reply.started": "2024-06-28T20:18:07.609096Z",
          "shell.execute_reply": "2024-06-28T20:18:07.609110Z"
        },
        "trusted": true,
        "colab": {
          "base_uri": "https://localhost:8080/"
        },
        "outputId": "12619239-9d68-43ec-910d-7528fe36d502"
      },
      "execution_count": null,
      "outputs": [
        {
          "output_type": "stream",
          "name": "stdout",
          "text": [
            "Train data shape: torch.Size([200, 2])\n",
            "Train target shape: torch.Size([200, 1])\n",
            "Test data shape: torch.Size([200, 2])\n",
            "Test target shape: torch.Size([200, 1])\n",
            "====================================\n"
          ]
        }
      ]
    },
    {
      "cell_type": "markdown",
      "source": [
        "## Train and Evaluate the NN"
      ],
      "metadata": {
        "id": "Hg219SyH9NrO"
      }
    },
    {
      "cell_type": "code",
      "source": [
        "model = NNet().to(device)\n",
        "criterion = torch.nn.MSELoss()\n",
        "optimizer = torch.optim.Adam(model.parameters(), lr=0.05)\n",
        "\n",
        "train_loss=train_model(model, train_loader, criterion, optimizer)"
      ],
      "metadata": {
        "id": "DbsyfVGd1cX1",
        "execution": {
          "iopub.status.busy": "2024-06-28T20:18:07.610527Z",
          "iopub.status.idle": "2024-06-28T20:18:07.610839Z",
          "shell.execute_reply.started": "2024-06-28T20:18:07.610685Z",
          "shell.execute_reply": "2024-06-28T20:18:07.610699Z"
        },
        "trusted": true,
        "colab": {
          "base_uri": "https://localhost:8080/"
        },
        "outputId": "86153ac2-57d9-48f4-fb44-c8ac86a57944"
      },
      "execution_count": null,
      "outputs": [
        {
          "output_type": "stream",
          "name": "stdout",
          "text": [
            "Epoch 1, Loss: 0.00946794729679823\n",
            "Epoch 2, Loss: 0.005945648066699505\n",
            "Epoch 3, Loss: 0.007116381544619799\n",
            "Epoch 4, Loss: 0.006229438818991184\n",
            "Epoch 5, Loss: 0.005780928768217564\n",
            "Epoch 6, Loss: 0.008185358718037605\n",
            "Epoch 7, Loss: 0.005044267047196627\n",
            "Epoch 8, Loss: 0.007322932593524456\n",
            "Epoch 9, Loss: 0.005938951391726732\n",
            "Epoch 10, Loss: 0.008222256787121296\n",
            "Epoch 11, Loss: 0.006734820548444986\n",
            "Epoch 12, Loss: 0.0065705496817827225\n",
            "Epoch 13, Loss: 0.0064842794090509415\n",
            "Epoch 14, Loss: 0.0071523492224514484\n",
            "Epoch 15, Loss: 0.006294232793152332\n",
            "Epoch 16, Loss: 0.006731509696692228\n",
            "Epoch 17, Loss: 0.007982863113284111\n",
            "Epoch 18, Loss: 0.0064101130701601505\n",
            "Epoch 19, Loss: 0.008869608864188194\n",
            "Epoch 20, Loss: 0.007427439093589783\n",
            "Epoch 21, Loss: 0.00784554798156023\n",
            "Epoch 22, Loss: 0.006086060777306557\n",
            "Epoch 23, Loss: 0.007225822191685438\n",
            "Epoch 24, Loss: 0.006353212054818869\n",
            "Epoch 25, Loss: 0.0073541272431612015\n"
          ]
        }
      ]
    },
    {
      "cell_type": "code",
      "source": [
        "test_loss=test_model(model, test_loader)"
      ],
      "metadata": {
        "id": "zw5MP7SSwmOq",
        "execution": {
          "iopub.status.busy": "2024-06-28T20:18:07.612062Z",
          "iopub.status.idle": "2024-06-28T20:18:07.612408Z",
          "shell.execute_reply.started": "2024-06-28T20:18:07.612223Z",
          "shell.execute_reply": "2024-06-28T20:18:07.612236Z"
        },
        "trusted": true,
        "colab": {
          "base_uri": "https://localhost:8080/"
        },
        "outputId": "46508a6a-21b7-4a19-c783-5302c3b84b14"
      },
      "execution_count": null,
      "outputs": [
        {
          "output_type": "stream",
          "name": "stdout",
          "text": [
            "Mean Squared Error: 0.007042662084102631\n"
          ]
        }
      ]
    },
    {
      "cell_type": "markdown",
      "source": [
        "# Comparison"
      ],
      "metadata": {
        "id": "xIpWEprHJzZw"
      }
    },
    {
      "cell_type": "code",
      "source": [
        "print(\"KAN TEST PERFORMANCE :\")\n",
        "print(results['test_mse'][-1])\n",
        "print(\"NN TEST PERFORMANCE :\")\n",
        "print(test_loss)"
      ],
      "metadata": {
        "colab": {
          "base_uri": "https://localhost:8080/"
        },
        "id": "bgDonadNJ1D6",
        "outputId": "4c00f564-7008-4126-d115-a08a9701da6f"
      },
      "execution_count": null,
      "outputs": [
        {
          "output_type": "stream",
          "name": "stdout",
          "text": [
            "KAN TEST PERFORMANCE :\n",
            "0.0009415835957042873\n",
            "NN TEST PERFORMANCE :\n",
            "0.007042662084102631\n"
          ]
        }
      ]
    }
  ]
}